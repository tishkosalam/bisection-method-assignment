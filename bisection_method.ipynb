{
  "nbformat": 4,
  "nbformat_minor": 0,
  "metadata": {
    "colab": {
      "provenance": [],
      "authorship_tag": "ABX9TyOIvgsZk3kezuJmM6BGo3vY",
      "include_colab_link": true
    },
    "kernelspec": {
      "name": "python3",
      "display_name": "Python 3"
    },
    "language_info": {
      "name": "python"
    }
  },
  "cells": [
    {
      "cell_type": "markdown",
      "metadata": {
        "id": "view-in-github",
        "colab_type": "text"
      },
      "source": [
        "<a href=\"https://colab.research.google.com/github/tishkosalam/bisection-method-assignment/blob/main/bisection_method.ipynb\" target=\"_parent\"><img src=\"https://colab.research.google.com/assets/colab-badge.svg\" alt=\"Open In Colab\"/></a>"
      ]
    },
    {
      "cell_type": "code",
      "execution_count": 5,
      "metadata": {
        "colab": {
          "base_uri": "https://localhost:8080/"
        },
        "id": "Oyti5RAaBUzI",
        "outputId": "d8ed3121-a4f3-4ee2-8c54-9758396f685b"
      },
      "outputs": [
        {
          "output_type": "stream",
          "name": "stdout",
          "text": [
            "Iteration  a            b            c            f(c)            Error       \n",
            "-------------------------------------------------------------------------\n",
            "0          0.0000000    1.0000000    0.5000000    0.3243606       0.5000000   \n",
            "1          0.5000000    1.0000000    0.7500000    -0.6915000      0.2500000   \n",
            "2          0.5000000    0.7500000    0.6250000    -0.1908770      0.1250000   \n",
            "3          0.5000000    0.6250000    0.5625000    0.0650273       0.0625000   \n",
            "4          0.5625000    0.6250000    0.5937500    -0.0633670      0.0312500   \n",
            "5          0.5625000    0.5937500    0.5781250    0.0007214       0.0156250   \n",
            "6          0.5781250    0.5937500    0.5859375    -0.0313502      0.0078125   \n",
            "7          0.5781250    0.5859375    0.5820312    -0.0153212      0.0039062   \n",
            "8          0.5781250    0.5820312    0.5800781    -0.0073016      0.0019531   \n",
            "9          0.5781250    0.5800781    0.5791016    -0.0032906      0.0009766   \n",
            "10         0.5781250    0.5791016    0.5786133    -0.0012847      0.0004883   \n",
            "11         0.5781250    0.5786133    0.5783691    -0.0002817      0.0002441   \n",
            "12         0.5781250    0.5783691    0.5782471    0.0002198       0.0001221   \n",
            "13         0.5782471    0.5783691    0.5783081    -0.0000309      0.0000610   \n",
            "14         0.5782471    0.5783081    0.5782776    0.0000945       0.0000305   \n",
            "15         0.5782776    0.5783081    0.5782928    0.0000318       0.0000153   \n",
            "\n",
            "=========================================================================\n",
            "Root found at: 0.5783005\n",
            "Iterations: 16\n"
          ]
        },
        {
          "output_type": "execute_result",
          "data": {
            "text/plain": [
              "0.5783004760742188"
            ]
          },
          "metadata": {},
          "execution_count": 5
        }
      ],
      "source": [
        "import math\n",
        "\n",
        "def f(x):\n",
        "  \"\"\"\n",
        "  This is the equation from the spreadsheet: f(x) = 0.5e^x - 5x + 2\n",
        "  \"\"\"\n",
        "  return 0.5 * math.exp(x) - 5 * x + 2\n",
        "\n",
        "def bisection_method(a, b, tolerance):\n",
        "  \"\"\"\n",
        "  Implements the Bisection method to find a root.\n",
        "  \"\"\"\n",
        "\n",
        "  # Check if a and b bracket a root\n",
        "  if f(a) * f(b) >= 0:\n",
        "    print(\"Bisection method fails: f(a) and f(b) must have opposite signs.\")\n",
        "    return None\n",
        "\n",
        "  iteration = 0\n",
        "\n",
        "  # Print table headers\n",
        "  print(f\"{'Iteration':<10} {'a':<12} {'b':<12} {'c':<12} {'f(c)':<15} {'Error':<12}\")\n",
        "  print(\"-\" * 73)\n",
        "\n",
        "  while (b - a) / 2.0 > tolerance:\n",
        "    # Find the midpoint\n",
        "    c = (a + b) / 2.0\n",
        "\n",
        "    # Calculate f(c)\n",
        "    f_c = f(c)\n",
        "\n",
        "    # Calculate error\n",
        "    error = (b - a) / 2.0\n",
        "\n",
        "    # Print the current iteration's results\n",
        "    print(f\"{iteration:<10} {a:<12.7f} {b:<12.7f} {c:<12.7f} {f_c:<15.7f} {error:<12.7f}\")\n",
        "\n",
        "    # Check which sub-interval to keep\n",
        "    if f(a) * f_c < 0:\n",
        "      # Root is in the left half\n",
        "      b = c\n",
        "    else:\n",
        "      # Root is in the right half\n",
        "      a = c\n",
        "\n",
        "    iteration += 1\n",
        "\n",
        "  # The final root approximation\n",
        "  root = (a + b) / 2.0\n",
        "  print(\"\\n\" + \"=\" * 73)\n",
        "  print(f\"Root found at: {root:.7f}\")\n",
        "  print(f\"Iterations: {iteration}\")\n",
        "  return root\n",
        "\n",
        "# --- Run the method ---\n",
        "# Initial guesses from the spreadsheet\n",
        "a_guess = 0.0\n",
        "b_guess = 1.0\n",
        "# Set a small tolerance for accuracy\n",
        "error_tolerance = 0.00001\n",
        "\n",
        "bisection_method(a_guess, b_guess, error_tolerance)"
      ]
    }
  ]
}